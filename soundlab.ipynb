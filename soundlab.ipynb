{
 "cells": [
  {
   "cell_type": "code",
   "execution_count": 35,
   "metadata": {},
   "outputs": [],
   "source": [
    "import numpy as np\n",
    "import scipy as sci\n",
    "from scipy.io.wavfile import write\n",
    "import matplotlib.pyplot as plt\n",
    "import mido\n",
    "import pypianoroll\n",
    "from notes import ChordPattern\n",
    "from effects import lp_4th_order\n",
    "from synth import ADSR\n",
    "\n",
    "from notes import Event"
   ]
  },
  {
   "cell_type": "code",
   "execution_count": 82,
   "metadata": {},
   "outputs": [
    {
     "data": {
      "text/plain": [
       "[<matplotlib.lines.Line2D at 0x7fa7260ea800>]"
      ]
     },
     "execution_count": 82,
     "metadata": {},
     "output_type": "execute_result"
    },
    {
     "data": {
      "image/png": "[encoded data removed]",
      "text/plain": [
       "<Figure size 640x480 with 1 Axes>"
      ]
     },
     "metadata": {},
     "output_type": "display_data"
    }
   ],
   "source": [
    "def ADSR(x, a, d, s, r, k = -3, show_plot = False):\n",
    "    '''Function to generate an ADSR enveloppe on data x'''\n",
    "    if True: #x[-1] >= (a + d + r): In the future could possibly make this quicker by checking if signal is shorter then a,d,r\n",
    "        val = 1-np.exp(-k)\n",
    "        attack = lambda x: (1-np.exp(-k*x/a))/val\n",
    "        decay = lambda x: 1 - (1-s)*(np.exp(k*(x-a)/d)-1)/(np.exp(k)-1)\n",
    "        sustain = lambda x: s\n",
    "        pre_rel_x = np.append(0, x[x < (x[-1] - r)])    # Appending a 0 in the begining in case the duration is 0\n",
    "        pre_rel = np.piecewise(\n",
    "            pre_rel_x, \n",
    "            [pre_rel_x < a, np.logical_and(a <= pre_rel_x, pre_rel_x < a+d), a+d<=pre_rel_x],\n",
    "            [attack, decay, sustain]\n",
    "        )\n",
    "\n",
    "        #print(pre_rel_x)\n",
    "        \n",
    "        #release = (x[-1]*pre_rel[-1]/r - pre_rel[-1]/r*x[x[-1] - r <= x])[1:]\n",
    "        release = (pre_rel[-1]*(1 - (np.exp(k*(x[x[-1] - r <= x]-x[-1]+r)/(r+0.000001))-1)/(np.exp(k)-1)))[1:]\n",
    "        \n",
    "\n",
    "        if show_plot == True:\n",
    "            plt.plot(np.concatenate((pre_rel, release)))\n",
    "            plt.show()\n",
    "\n",
    "        return np.concatenate((pre_rel, release))\n",
    "    \n",
    "adsr = ADSR(t, 0, 0, 0.5, 0.0001)\n",
    "plt.plot(t, adsr)"
   ]
  },
  {
   "cell_type": "code",
   "execution_count": 77,
   "metadata": {},
   "outputs": [],
   "source": [
    "sr = 44100\n",
    "time = 5\n",
    "t = np.linspace(0, time, time*sr)\n",
    "sig = sci.signal.sawtooth(2*np.pi*t*200)\n",
    "#sig = np.sin(t*40*2*np.pi)\n",
    "\n",
    "adsr = ADSR(t, 0, 0.5, 0.5, 1)\n",
    "\n",
    "sig = lp_4th_order(sig, 10+adsr*4000, 3, sr)#*ADSR(t, 0, 1.2, 0, 1)\n",
    "\n",
    "data = np.iinfo(np.int16).max * sig / np.max(np.abs(sig))\n",
    "write(\"audio_tests/soundlab_output.wav\", sr, data.astype(np.int16))"
   ]
  },
  {
   "cell_type": "code",
   "execution_count": 14,
   "metadata": {},
   "outputs": [],
   "source": [
    "data = np.iinfo(np.int16).max * dat / np.max(np.abs(dat))\n",
    "write(\"audio_tests/soundlab_output.wav\", sr, data.astype(np.int16))"
   ]
  },
  {
   "cell_type": "code",
   "execution_count": 2,
   "metadata": {},
   "outputs": [
    {
     "name": "stdout",
     "output_type": "stream",
     "text": [
      "[]\n",
      "[[ 9  1  4]\n",
      " [ 7 11  2]\n",
      " [ 2  6  9]]\n"
     ]
    }
   ],
   "source": [
    "a = ChordPattern(\n",
    "    np.mod(np.array([0, 10, 5]) + np.random.randint(11), 12),\n",
    "    np.array([0, 0, 0]),\n",
    "    np.array([2, 2, 4])\n",
    ")"
   ]
  },
  {
   "cell_type": "code",
   "execution_count": 3,
   "metadata": {},
   "outputs": [
    {
     "data": {
      "text/plain": [
       "array([ 1,  2,  4,  6,  7,  9, 11])"
      ]
     },
     "execution_count": 3,
     "metadata": {},
     "output_type": "execute_result"
    }
   ],
   "source": [
    "a.scale"
   ]
  },
  {
   "cell_type": "code",
   "execution_count": 207,
   "metadata": {},
   "outputs": [],
   "source": [
    "notes = []\n",
    "bpm = 77\n",
    "beat_time = 60/bpm\n",
    "\n",
    "\n",
    "for i in range(2):\n",
    "    notes.append(Event(30+i, i*beat_time, (i+1)*beat_time, 0))"
   ]
  },
  {
   "cell_type": "code",
   "execution_count": 3,
   "metadata": {},
   "outputs": [
    {
     "data": {
      "text/plain": [
       "array([1, 2, 3, 4, 5, 6])"
      ]
     },
     "execution_count": 3,
     "metadata": {},
     "output_type": "execute_result"
    }
   ],
   "source": [
    "a = np.array([1, 2, 3, 4])\n",
    "b = np.array([1, 2, 5, 6])\n",
    "\n",
    "np.unique(np.concatenate(np.array([a, b])))"
   ]
  },
  {
   "cell_type": "code",
   "execution_count": 200,
   "metadata": {},
   "outputs": [],
   "source": [
    "class MidiMessage:\n",
    "    '''Class for note events. Contains info about pitch, start and length of the notes.'''\n",
    "    def __init__(self, action, note, time, velocity, channel):\n",
    "        self.action = action\n",
    "        self.note = note\n",
    "        self.time = time\n",
    "        self.velocity = velocity\n",
    "        self.channel = channel\n",
    "    \n",
    "    def __str__(self) -> str:\n",
    "        string = \"\\nEvent: \"+ str(self.action)\n",
    "        string += \"\\n\\t MIDI Note: \" + str(self.note)\n",
    "        string += \"\\n\\t Velocity: \" + str(self.velocity)\n",
    "        string += \"\\n\\t Time: \" + str(self.time)\n",
    "        string += \"\\n\\t Channel: \" + str(self.channel)\n",
    "        return string"
   ]
  },
  {
   "cell_type": "code",
   "execution_count": 201,
   "metadata": {},
   "outputs": [],
   "source": [
    "mid = mido.MidiFile()\n",
    "track = mido.MidiTrack()\n",
    "mid.tracks.append(track)\n",
    "\n",
    "tempo = mido.bpm2tempo(bpm)\n",
    "\n",
    "# Meta info\n",
    "track.append(mido.MetaMessage('instrument_name', name=\"test\"))\n",
    "track.append(mido.MetaMessage('set_tempo', tempo = mido.bpm2tempo(bpm)))"
   ]
  },
  {
   "cell_type": "code",
   "execution_count": 202,
   "metadata": {},
   "outputs": [],
   "source": [
    "midi_events = []\n",
    "\n",
    "for i in notes:\n",
    "    midi_events.append(MidiMessage(\n",
    "        \"note_on\", \n",
    "        i.midi_note, \n",
    "        i.start, \n",
    "        127,\n",
    "        i.channel\n",
    "    ))\n",
    "\n",
    "    midi_events.append(MidiMessage(\n",
    "        \"note_off\",\n",
    "        i.midi_note,\n",
    "        i.end,\n",
    "        127,\n",
    "        i.channel\n",
    "    ))\n",
    "\n",
    "# Sort events\n",
    "midi_events.sort(key = lambda x: x.time)       # Sort by time\n",
    "\n",
    "ctime = 0\n",
    "\n",
    "for ev in midi_events:\n",
    "    delta = ev.time - ctime\n",
    "    ctime = ev.time\n",
    "    track.append(mido.Message(\n",
    "        ev.action, \n",
    "        note=ev.note, \n",
    "        velocity=ev.velocity, \n",
    "        time=round(mido.second2tick(delta, mid.ticks_per_beat, tempo)), \n",
    "        channel = ev.channel\n",
    "        )\n",
    "    )\n",
    "\n",
    "mid.save('test.mid')"
   ]
  },
  {
   "cell_type": "code",
   "execution_count": 11,
   "metadata": {},
   "outputs": [
    {
     "name": "stdout",
     "output_type": "stream",
     "text": [
      "Track 0: \n",
      "MetaMessage('instrument_name', name='drum', time=0)\n",
      "MetaMessage('set_tempo', tempo=1416137, time=0)\n",
      "note_on channel=0 note=0 velocity=127 time=0\n",
      "note_on channel=1 note=20 velocity=127 time=0\n",
      "note_on channel=0 note=10 velocity=127 time=240\n",
      "note_off channel=0 note=0 velocity=127 time=240\n",
      "note_off channel=1 note=20 velocity=127 time=0\n",
      "note_on channel=0 note=11 velocity=127 time=0\n",
      "note_on channel=1 note=20 velocity=127 time=0\n",
      "note_on channel=0 note=30 velocity=127 time=0\n",
      "note_off channel=0 note=10 velocity=127 time=240\n",
      "note_on channel=0 note=10 velocity=127 time=0\n",
      "note_off channel=0 note=11 velocity=127 time=240\n",
      "note_off channel=1 note=20 velocity=127 time=0\n",
      "note_off channel=0 note=30 velocity=127 time=0\n",
      "note_on channel=0 note=10 velocity=127 time=0\n",
      "note_on channel=0 note=11 velocity=127 time=0\n",
      "note_on channel=0 note=12 velocity=127 time=0\n",
      "note_on channel=0 note=30 velocity=127 time=0\n",
      "note_off channel=0 note=10 velocity=127 time=240\n",
      "note_on channel=0 note=12 velocity=127 time=0\n",
      "note_off channel=0 note=10 velocity=127 time=240\n",
      "note_off channel=0 note=11 velocity=127 time=0\n",
      "note_off channel=0 note=12 velocity=127 time=0\n",
      "note_off channel=0 note=30 velocity=127 time=0\n",
      "note_on channel=0 note=10 velocity=127 time=0\n",
      "note_off channel=0 note=12 velocity=127 time=240\n",
      "note_on channel=0 note=0 velocity=127 time=0\n",
      "note_off channel=0 note=10 velocity=127 time=240\n",
      "note_on channel=0 note=0 velocity=127 time=0\n",
      "note_on channel=0 note=12 velocity=127 time=0\n",
      "note_on channel=0 note=30 velocity=127 time=0\n",
      "note_off channel=0 note=0 velocity=127 time=240\n",
      "note_on channel=0 note=0 velocity=127 time=0\n",
      "note_off channel=0 note=0 velocity=127 time=240\n",
      "note_off channel=0 note=12 velocity=127 time=0\n",
      "note_off channel=0 note=30 velocity=127 time=0\n",
      "note_on channel=0 note=0 velocity=127 time=0\n",
      "note_off channel=0 note=0 velocity=127 time=240\n",
      "note_off channel=0 note=0 velocity=127 time=240\n",
      "note_on channel=0 note=10 velocity=127 time=0\n",
      "note_on channel=0 note=11 velocity=127 time=0\n",
      "note_on channel=0 note=12 velocity=127 time=0\n",
      "note_on channel=0 note=0 velocity=127 time=240\n",
      "note_on channel=0 note=30 velocity=127 time=0\n",
      "note_off channel=0 note=10 velocity=127 time=240\n",
      "note_off channel=0 note=11 velocity=127 time=0\n",
      "note_off channel=0 note=12 velocity=127 time=0\n",
      "note_off channel=0 note=0 velocity=127 time=240\n",
      "note_off channel=0 note=30 velocity=127 time=0\n",
      "note_on channel=0 note=0 velocity=127 time=0\n",
      "note_on channel=0 note=12 velocity=127 time=0\n",
      "note_on channel=0 note=0 velocity=127 time=240\n",
      "note_on channel=1 note=20 velocity=127 time=0\n",
      "note_off channel=0 note=0 velocity=127 time=240\n",
      "note_off channel=0 note=12 velocity=127 time=0\n",
      "note_on channel=0 note=10 velocity=127 time=0\n",
      "note_off channel=0 note=0 velocity=127 time=240\n",
      "note_off channel=1 note=20 velocity=127 time=0\n",
      "note_on channel=0 note=11 velocity=127 time=0\n",
      "note_on channel=1 note=20 velocity=127 time=0\n",
      "note_on channel=0 note=30 velocity=127 time=0\n",
      "note_off channel=0 note=10 velocity=127 time=240\n",
      "note_on channel=0 note=10 velocity=127 time=0\n",
      "note_off channel=0 note=11 velocity=127 time=240\n",
      "note_off channel=1 note=20 velocity=127 time=0\n",
      "note_off channel=0 note=30 velocity=127 time=0\n",
      "note_on channel=0 note=10 velocity=127 time=0\n",
      "note_on channel=0 note=11 velocity=127 time=0\n",
      "note_on channel=0 note=12 velocity=127 time=0\n",
      "note_on channel=0 note=30 velocity=127 time=0\n",
      "note_off channel=0 note=10 velocity=127 time=240\n",
      "note_on channel=0 note=12 velocity=127 time=0\n",
      "note_off channel=0 note=10 velocity=127 time=240\n",
      "note_off channel=0 note=11 velocity=127 time=0\n",
      "note_off channel=0 note=12 velocity=127 time=0\n",
      "note_off channel=0 note=30 velocity=127 time=0\n",
      "note_on channel=0 note=10 velocity=127 time=0\n",
      "note_off channel=0 note=12 velocity=127 time=240\n",
      "note_on channel=0 note=0 velocity=127 time=0\n",
      "note_off channel=0 note=10 velocity=127 time=240\n",
      "note_on channel=0 note=0 velocity=127 time=0\n",
      "note_on channel=0 note=12 velocity=127 time=0\n",
      "note_on channel=0 note=30 velocity=127 time=0\n",
      "note_off channel=0 note=0 velocity=127 time=240\n",
      "note_on channel=0 note=0 velocity=127 time=0\n",
      "note_off channel=0 note=0 velocity=127 time=240\n",
      "note_off channel=0 note=12 velocity=127 time=0\n",
      "note_off channel=0 note=30 velocity=127 time=0\n",
      "note_on channel=0 note=0 velocity=127 time=0\n",
      "note_off channel=0 note=0 velocity=127 time=240\n",
      "note_off channel=0 note=0 velocity=127 time=240\n",
      "note_on channel=0 note=10 velocity=127 time=0\n",
      "note_on channel=0 note=11 velocity=127 time=0\n",
      "note_on channel=0 note=12 velocity=127 time=0\n",
      "note_on channel=0 note=0 velocity=127 time=240\n",
      "note_on channel=0 note=30 velocity=127 time=0\n",
      "note_off channel=0 note=10 velocity=127 time=240\n",
      "note_off channel=0 note=11 velocity=127 time=0\n",
      "note_off channel=0 note=12 velocity=127 time=0\n",
      "note_off channel=0 note=0 velocity=127 time=240\n",
      "note_off channel=0 note=30 velocity=127 time=0\n",
      "note_on channel=0 note=0 velocity=127 time=0\n",
      "note_on channel=0 note=12 velocity=127 time=0\n",
      "note_off channel=0 note=0 velocity=127 time=480\n",
      "note_off channel=0 note=12 velocity=127 time=0\n",
      "MetaMessage('end_of_track', time=0)\n"
     ]
    }
   ],
   "source": [
    "mid = mido.MidiFile(\"temp/track_3.mid\")\n",
    "for i, track in enumerate(mid.tracks):\n",
    "    print('Track {}: {}'.format(i, track.name))\n",
    "    for msg in track:\n",
    "        print(msg)"
   ]
  },
  {
   "cell_type": "code",
   "execution_count": 203,
   "metadata": {},
   "outputs": [
    {
     "data": {
      "text/plain": [
       "480"
      ]
     },
     "execution_count": 203,
     "metadata": {},
     "output_type": "execute_result"
    }
   ],
   "source": [
    "round(mido.second2tick(delta, mid.ticks_per_beat, tempo))"
   ]
  },
  {
   "cell_type": "code",
   "execution_count": 204,
   "metadata": {},
   "outputs": [
    {
     "name": "stdout",
     "output_type": "stream",
     "text": [
      "MetaMessage('instrument_name', name='test', time=0)\n",
      "MetaMessage('set_tempo', tempo=779221, time=0)\n",
      "note_on channel=0 note=30 velocity=127 time=0\n",
      "note_off channel=0 note=30 velocity=127 time=480\n",
      "note_on channel=0 note=31 velocity=127 time=0\n",
      "note_off channel=0 note=31 velocity=127 time=480\n"
     ]
    }
   ],
   "source": [
    "for i in track:\n",
    "    print(i)"
   ]
  },
  {
   "cell_type": "code",
   "execution_count": 14,
   "metadata": {},
   "outputs": [
    {
     "name": "stdout",
     "output_type": "stream",
     "text": [
      "Multitrack(name=None, resolution=24, tempo=array(shape=(888, 1), dtype=float64), tracks=[StandardTrack(name='', program=0, is_drum=False, pianoroll=array(shape=(888, 128), dtype=uint8)), StandardTrack(name='', program=0, is_drum=False, pianoroll=array(shape=(888, 128), dtype=uint8)), StandardTrack(name='', program=0, is_drum=False, pianoroll=array(shape=(888, 128), dtype=uint8)), StandardTrack(name='', program=0, is_drum=False, pianoroll=array(shape=(888, 128), dtype=uint8))])\n"
     ]
    },
    {
     "data": {
      "text/plain": [
       "[<Axes: xlabel='time (beat)', ylabel='off\\n\\npitch'>,\n",
       " <Axes: xlabel='time (beat)', ylabel='off\\n\\npitch'>,\n",
       " <Axes: xlabel='time (beat)', ylabel='off\\n\\npitch'>,\n",
       " <Axes: xlabel='time (beat)', ylabel='off\\n\\npitch'>]"
      ]
     },
     "execution_count": 14,
     "metadata": {},
     "output_type": "execute_result"
    },
    {
     "data": {
      "image/png": "[encoded data removed]",
      "text/plain": [
       "<Figure size 640x480 with 4 Axes>"
      ]
     },
     "metadata": {},
     "output_type": "display_data"
    }
   ],
   "source": [
    "multitrack = pypianoroll.read(\"temp/track_3.mid\")\n",
    "print(multitrack)\n",
    "multitrack.plot(track_label = \"off\")"
   ]
  },
  {
   "cell_type": "code",
   "execution_count": null,
   "metadata": {},
   "outputs": [],
   "source": []
  }
 ],
 "metadata": {
  "kernelspec": {
   "display_name": "base",
   "language": "python",
   "name": "python3"
  },
  "language_info": {
   "codemirror_mode": {
    "name": "ipython",
    "version": 3
   },
   "file_extension": ".py",
   "mimetype": "text/x-python",
   "name": "python",
   "nbconvert_exporter": "python",
   "pygments_lexer": "ipython3",
   "version": "3.10.9"
  },
  "orig_nbformat": 4,
  "vscode": {
   "interpreter": {
    "hash": "c30f2af5f468e7f5b45bcc30fca5f4886c90d54777aed916ed5f6294dfb24bf2"
   }
  }
 },
 "nbformat": 4,
 "nbformat_minor": 2
}
